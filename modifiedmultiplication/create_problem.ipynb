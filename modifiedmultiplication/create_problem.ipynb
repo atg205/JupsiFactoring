{
 "cells": [
  {
   "cell_type": "code",
   "execution_count": 10,
   "metadata": {},
   "outputs": [],
   "source": [
    "import sympy as sp\n",
    "import numpy as np\n",
    "import pprint\n",
    "import os\n",
    "import os.path\n",
    "import pickle\n",
    "sp.init_printing()"
   ]
  },
  {
   "cell_type": "code",
   "execution_count": 11,
   "metadata": {},
   "outputs": [],
   "source": [
    "def init(N):\n",
    "    config = {\n",
    "        91:((4,3),6),\n",
    "        143:((4,4),2),\n",
    "\n",
    "        437: ((5,5),3),\n",
    "\n",
    "        493: ((5,5),3),\n",
    "\n",
    "        59989:((8,8),3),\n",
    "\n",
    "        376289:((10,10),3)\n",
    "    }\n",
    "    return config[N]"
   ]
  },
  {
   "cell_type": "code",
   "execution_count": 12,
   "metadata": {},
   "outputs": [],
   "source": [
    "N = 91\n",
    "dim, BLOCKSIZE = init(N)"
   ]
  },
  {
   "cell_type": "code",
   "execution_count": 13,
   "metadata": {},
   "outputs": [],
   "source": [
    "def subs(term, sub_rule):\n",
    "    return term if term ==1  or term == 0 else term.subs(sub_rule)\n",
    "\n",
    "def split_2d_array(array):\n",
    "    # append zeros so that array can be equally splitted\n",
    "\n",
    "    if len(array[0])%BLOCKSIZE > 0:\n",
    "      \n",
    "        missing_columns = BLOCKSIZE-(len(array[0])%BLOCKSIZE)\n",
    "    else:\n",
    "        missing_columns = 0\n",
    "    array = np.concatenate((np.array(array), np.zeros((array.shape[0],missing_columns))),axis=1 )\n",
    "\n",
    "    split = len(array[0]) / BLOCKSIZE\n",
    "\n",
    "    return np.split(array[::-1], indices_or_sections=split, axis=1)"
   ]
  },
  {
   "cell_type": "code",
   "execution_count": 16,
   "metadata": {},
   "outputs": [],
   "source": [
    "q_dim, p_dim = dim\n",
    "\n",
    "\n",
    "q = sp.symbols(' '.join([f'q{i}' for i in range(q_dim-2)])) #-2 because we dont consider the leading and trailing ones\n",
    "p = sp.symbols(' '.join([f'p{i}' for i in range(p_dim-2)]))\n",
    "p = [p]\n",
    "p_total = [1] + list(p)+ [1]\n",
    "# generate multiplication table\n",
    "# pad with zeros to make all rows equal in length\n",
    "\n",
    "rows = [[0]* i + [q_sym * p_sym for p_sym in p_total] + [0] * (len(q)-i) for i, q_sym in enumerate(q)]\n",
    "\n",
    "# add first and last table row\n",
    "rows = [list(p)+[1] + [0] * (len(q)+1)] + rows + [[0] * len(q) + p_total]\n",
    "\n"
   ]
  },
  {
   "cell_type": "code",
   "execution_count": 17,
   "metadata": {},
   "outputs": [],
   "source": [
    "def get_block_overflow(blocksize, block_sum):\n",
    "    overflow = len(bin(block_sum))-2 -  blocksize \n",
    "    return overflow if overflow > 0 else 0\n",
    "\n",
    "def append_to_c_array(c_arr, number, subs_rule):\n",
    "    print(number)\n",
    "    new_cs = sp.symbols(' '.join(f'c{i}' for i in range(len(c_arr), len(c_arr)+number)))    \n",
    "    #update subs rule\n",
    "    new_cs = list(new_cs) if number > 1 else [new_cs]\n",
    "    for c in new_cs:\n",
    "        subs_rule[c] = 1\n",
    "\n",
    "    c_arr += new_cs"
   ]
  },
  {
   "cell_type": "code",
   "execution_count": 18,
   "metadata": {},
   "outputs": [
    {
     "name": "stdout",
     "output_type": "stream",
     "text": [
      "[['001110', '011100', '111000', '110000']]\n"
     ]
    },
    {
     "data": {
      "image/png": "[encoded data removed]",
      "text/latex": [
       "$\\displaystyle \\left[ 52\\right]$"
      ],
      "text/plain": [
       "[52]"
      ]
     },
     "execution_count": 18,
     "metadata": {},
     "output_type": "execute_result"
    }
   ],
   "source": [
    "ones_subs_rule = {sym:1 for sym in list(p) + list(q)}\n",
    "\n",
    "ones_blocks= np.vectorize(subs)(np.array(rows), ones_subs_rule)\n",
    "\n",
    "ones_blocks = split_2d_array(ones_blocks)\n",
    "\n",
    "\n",
    "# int conversion necessary because otherwise zeros are 0.0\n",
    "max_block_sums = [[''.join((row.astype(int).astype(str))) for row in block] for block in ones_blocks  ] # don't ask me about this ever\n",
    "print(max_block_sums)\n",
    "\n",
    "# convert to binary and sum up rows\n",
    "# turn it around for binary conversion\n",
    "max_block_sums = [sum(int(row[::-1],2) for row in block) for block in max_block_sums] \n",
    "[get_block_overflow(blocksize=BLOCKSIZE,block_sum=sum_) for sum_ in max_block_sums]\n",
    "max_block_sums\n"
   ]
  },
  {
   "cell_type": "code",
   "execution_count": 19,
   "metadata": {},
   "outputs": [
    {
     "name": "stdout",
     "output_type": "stream",
     "text": [
      "0b1011011\n"
     ]
    }
   ],
   "source": [
    "rows_with_carry = np.array(rows.copy())\n",
    "blocks = split_2d_array(rows_with_carry)\n",
    "c = []\n",
    "\n",
    "N_bin = bin(N)\n",
    "\n",
    "for i in range(len(blocks)):\n",
    "\n",
    "    # update blocks with new carries,\n",
    "    blocks = split_2d_array(rows_with_carry)\n",
    "\n",
    "    ones_blocks= np.vectorize(subs)(np.array(blocks[i]), ones_subs_rule)\n",
    "    \n",
    "    # int conversion necessary because otherwise zeros are 0.0\n",
    "    max_block_sum = [''.join((row.astype(int).astype(str))) for row in ones_blocks]\n",
    "\n",
    "    # convert to binary and sum up rows,\n",
    "    # turn it around for binary conversion,\n",
    "    max_block_sum = sum(int(row[::-1],2) for row in max_block_sum)\n",
    "    overflow_bits = get_block_overflow(blocksize=BLOCKSIZE, block_sum=max_block_sum)\n",
    "    \n",
    "    if overflow_bits:\n",
    "        # catch overflow,\n",
    "        carry_index_start = (i+1)*BLOCKSIZE\n",
    "        carry_index_end = carry_index_start + overflow_bits \n",
    "         \n",
    "        if carry_index_end >= len(N_bin)-4:\n",
    "            carry_index_end = len(N_bin)-4\n",
    "            overflow_bits = carry_index_end -carry_index_start\n",
    "\n",
    "        if carry_index_end <= carry_index_start:\n",
    "            continue\n",
    "\n",
    "        column_diff = carry_index_end - len(rows_with_carry[0])\n",
    "        if column_diff > 0:\n",
    "            zeros = np.zeros((rows_with_carry.shape[0],column_diff))\n",
    "            print(zeros.shape)\n",
    "            print(zeros)\n",
    "            print(rows_with_carry.shape)\n",
    "            print(rows_with_carry)\n",
    "            rows_with_carry = np.concatenate((rows_with_carry, zeros),axis=1)\n",
    "\n",
    "        # append carries to initial matrix,\n",
    "        carry_line = np.zeros(len(rows_with_carry[0]), dtype=object)\n",
    "        print(f\"overflow bits {overflow_bits}\")\n",
    "        append_to_c_array(c, overflow_bits, ones_subs_rule)\n",
    "        carry_line[carry_index_start:carry_index_end] = c[-overflow_bits:]\n",
    "        #immediately substract carries from last column of current block\n",
    "        carry_line[(i+1)*BLOCKSIZE-1] = sp.Add(*[-carry_bit*2**(j+1) for j, carry_bit in enumerate(c[-overflow_bits:])])\n",
    "        \n",
    "        print(rows_with_carry)\n",
    "        print(rows_with_carry.shape)\n",
    "        #print(np.array([carry_line]).shape)\n",
    "        rows_with_carry = np.concatenate((rows_with_carry,np.array([carry_line])))\n",
    "        print(overflow_bits)\n",
    "        print(carry_line) \n",
    "        pprint.pp(rows_with_carry)\n",
    "print(N_bin)\n",
    "\n",
    "# IMPROVEMENT: cut the carry for the 1 (last column in general)"
   ]
  },
  {
   "cell_type": "code",
   "execution_count": 20,
   "metadata": {},
   "outputs": [
    {
     "data": {
      "text/plain": [
       "[array([[0, 0, 1, p0, 1, 0.0],\n",
       "        [0, q1, p0*q1, q1, 0, 0.0],\n",
       "        [q0, p0*q0, q0, 0, 0, 0.0],\n",
       "        [p0, 1, 0, 0, 0, 0.0]], dtype=object)]"
      ]
     },
     "execution_count": 20,
     "metadata": {},
     "output_type": "execute_result"
    }
   ],
   "source": [
    "# derive cost function\n",
    "block = split_2d_array(rows_with_carry)\n",
    "\n",
    "blocks\n"
   ]
  },
  {
   "cell_type": "code",
   "execution_count": null,
   "metadata": {},
   "outputs": [
    {
     "name": "stdout",
     "output_type": "stream",
     "text": [
      "[2*p0*q0 + 5*p0 + 4*p1*q0 + 10*p1 + 9*q0 + 22]\n"
     ]
    },
    {
     "data": {
      "image/png": "[encoded data removed]",
      "text/latex": [
       "$\\displaystyle \\left[ 2 p_{0} q_{0} + 5 p_{0} + 4 p_{1} q_{0} + 10 p_{1} + 9 q_{0} - 23\\right]$"
      ],
      "text/plain": [
       "[2⋅p₀⋅q₀ + 5⋅p₀ + 4⋅p₁⋅q₀ + 10⋅p₁ + 9⋅q₀ - 23]"
      ]
     },
     "execution_count": 13,
     "metadata": {},
     "output_type": "execute_result"
    }
   ],
   "source": [
    "N_bin_rev = N_bin[2:-1][::-1] # reverse N_bin to because blocks are ordered from LSB to MSB also discard LSB\n",
    "# column wise addition, with 2 to the power of column position in block\n",
    "cost_eq = [[sp.Add(*column) *2**i for i, column in enumerate(block.T)] for block in blocks ]\n",
    "# add the columns of each block together\n",
    "cost_eq = [sp.Add(*column) for column in cost_eq]\n",
    "\n",
    "# substract N from   the constraint\n",
    "pprint.pp(cost_eq)\n",
    "cost_eq = [block_equation-int(N_bin_rev[block_inx*BLOCKSIZE:(block_inx+1) * BLOCKSIZE][::-1],2) for block_inx, block_equation in enumerate(cost_eq)]\n",
    "cost_eq "
   ]
  },
  {
   "cell_type": "code",
   "execution_count": null,
   "metadata": {},
   "outputs": [],
   "source": []
  },
  {
   "cell_type": "code",
   "execution_count": null,
   "metadata": {},
   "outputs": [],
   "source": [
    "# pickle cost equation\n",
    "dump_object = (p,q,tuple(c),cost_eq)\n",
    "filepath = os.path.join(os.getcwd(), 'problems',f'{dim[0]}_{dim[1]}_{N}.pickle')\n",
    "with open(filepath, 'wb') as f:\n",
    "    pickle.dump(dump_object,f)"
   ]
  },
  {
   "cell_type": "code",
   "execution_count": 25,
   "metadata": {},
   "outputs": [
    {
     "name": "stdout",
     "output_type": "stream",
     "text": [
      "((p0, p1, p2, p3, p4, p5), (q0, q1, q2, q3, q4, q5), (c0, c1, c2, c3, c4, c5, c6, c7, c8, c9), [-8*c0 - 16*c1 + 2*p0*q0 + 4*p0*q1 + p0 + 4*p1*q0 + 2*p1 + 4*p2 + q0 + 2*q1 + 4*q2 - 2, c0 + 2*c1 - 8*c2 - 16*c3 - 32*c4 + p0*q2 + 2*p0*q3 + 4*p0*q4 + p1*q1 + 2*p1*q2 + 4*p1*q3 + p2*q0 + 2*p2*q1 + 4*p2*q2 + 2*p3*q0 + 4*p3*q1 + p3 + 4*p4*q0 + 2*p4 + 4*p5 + q3 + 2*q4 + 4*q5 - 5, c2 + 2*c3 + 4*c4 - 8*c5 - 16*c6 - 32*c7 + p0*q5 + 2*p0 + p1*q4 + 2*p1*q5 + 4*p1 + p2*q3 + 2*p2*q4 + 4*p2*q5 + p3*q2 + 2*p3*q3 + 4*p3*q4 + p4*q1 + 2*p4*q2 + 4*p4*q3 + p5*q0 + 2*p5*q1 + 4*p5*q2 + 2*q0 + 4*q1 - 2, c5 + 2*c6 + 4*c7 - 8*c8 - 16*c9 + p2 + p3*q5 + 2*p3 + p4*q4 + 2*p4*q5 + 4*p4 + p5*q3 + 2*p5*q4 + 4*p5*q5 + q2 + 2*q3 + 4*q4 - 2, c8 + 2*c9 + p5 + q5 - 5])\n"
     ]
    }
   ],
   "source": [
    "with open(filepath, 'rb') as f:\n",
    "    print(pickle.load(f))"
   ]
  }
 ],
 "metadata": {
  "kernelspec": {
   "display_name": ".venv",
   "language": "python",
   "name": "python3"
  },
  "language_info": {
   "codemirror_mode": {
    "name": "ipython",
    "version": 3
   },
   "file_extension": ".py",
   "mimetype": "text/x-python",
   "name": "python",
   "nbconvert_exporter": "python",
   "pygments_lexer": "ipython3",
   "version": "3.10.12"
  }
 },
 "nbformat": 4,
 "nbformat_minor": 2
}
