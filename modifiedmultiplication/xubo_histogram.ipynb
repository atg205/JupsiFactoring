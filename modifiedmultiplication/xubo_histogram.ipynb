{
 "cells": [
  {
   "cell_type": "code",
   "execution_count": 9,
   "metadata": {},
   "outputs": [],
   "source": [
    "import re\n",
    "import ast\n",
    "import pandas as pd\n",
    "import matplotlib.pyplot as plt\n",
    "import os\n",
    "import os.path\n"
   ]
  },
  {
   "cell_type": "code",
   "execution_count": 10,
   "metadata": {},
   "outputs": [],
   "source": [
    "# extract solution from xubo solution file in the format\n",
    "# (result: df, valids: df, success_rate: percentage)\n",
    "def read_xubo_solution(file='2x7', N=14, lamda_path = ''):\n",
    "\n",
    "    energy_file = open(f'energies/{lamda_path}{str(N)}/{file}', 'r')\n",
    "    energy_lines = [line[:-1] for line in energy_file.readlines()]\n",
    "\n",
    "    file = re.findall('.*(?<=.ising)', file)[0]\n",
    "    source_file = open(f'IsingTerms/{lamda_path}{str(N)}/{file}', 'r')\n",
    "    source_lines = [line[:-1] for line in source_file.readlines()]\n",
    "\n",
    "    # extract values from source file to generate pd df later\n",
    "    offset = float(re.findall('\\S+$',source_lines[1])[0])\n",
    "    qubit_dict = re.findall('{.+}',source_lines[2])[0]\n",
    "    qubit_dict = ast.literal_eval(qubit_dict)\n",
    "\n",
    "    energy_lines = [line.split('\\t') for line in energy_lines[17:]]\n",
    "    # store in the format [qubits, energy]\n",
    "    # has to be turned around so it fits qubit mapping\n",
    "    energy_lines = [list(line[1])[::-1] + [line[0]] for line in energy_lines]\n",
    "    # extend and clean df\n",
    "    result = pd.DataFrame.from_records(data=energy_lines, columns = list(qubit_dict.keys()) + ['energy'])\n",
    "    result = result.reindex(sorted(result.columns), axis=1)\n",
    "    result['a'] = result.filter(regex='^p[0-9]+$').apply(lambda row: int(''.join(['1']+list(row.values.astype(str))+['1'])[::-1],2), axis=1) \n",
    "    result['b'] = result.filter(regex='^q[0-9]+$').apply(lambda row: int(''.join(['1']+list(row.values.astype(str))+['1'])[::-1],2), axis=1)\n",
    "    result['valid'] = result['a'] * result['b'] == int(N)\n",
    "    valid = result[(result['valid'] == True)]\n",
    "    result['energy'] = result['energy'].astype(float)\n",
    "    result['energy'] += offset\n",
    "    valids = result[(result['valid'] == True)]\n",
    "    success_rate = 0 if valids.empty else len(valids)/ len(result) *100\n",
    "    energy_file.close()\n",
    "    return ((result, valids, success_rate))"
   ]
  },
  {
   "cell_type": "code",
   "execution_count": null,
   "metadata": {},
   "outputs": [],
   "source": []
  },
  {
   "cell_type": "code",
   "execution_count": 11,
   "metadata": {},
   "outputs": [],
   "source": [
    "results = {}\n",
    "result_dfs = {}\n",
    "N = 91\n",
    "Ns = [91,143,437,493]\n",
    "\n",
    "\n",
    "\n",
    "\n",
    "for N in Ns:\n",
    "    lamda_path = \"dynamic/\"\n",
    "    base_path = os.path.join(os.getcwd(), 'energies',lamda_path, str(N))\n",
    "    files = os.listdir(base_path)\n",
    "    xubo_solutions = {}\n",
    "    df_dict ={\n",
    "        'N': [],\n",
    "        'lamda':[],\n",
    "        'min_energy': [],\n",
    "        'min_energy_is_solution':[]\n",
    "    }\n",
    "\n",
    "\n",
    "    for i,file in enumerate(files):  \n",
    "        lamda = re.findall('(?<=lamda_0\\.)\\d+', file)\n",
    "        if not lamda:\n",
    "            continue\n",
    "        lamda = int(lamda[0])\n",
    "    #    file = os.path.join(base_path, file)\n",
    "        result,_,_ = read_xubo_solution(file=file, N=N, lamda_path=lamda_path)\n",
    "        results[N] = result\n",
    "       # if lamda == 4:\n",
    "        #    print(result[['p0','q0','q1','c0','c1','c2','c3','t0','t1','a','b', 'energy', 'valid']].sort_values(by='energy').head(4))\n",
    "\n",
    "        df_dict['N'].append(N)\n",
    "        df_dict['lamda'].append(lamda)\n",
    "        df_dict['min_energy'].append(result.head(1).loc[0,'energy'])\n",
    "        df_dict['min_energy_is_solution'].append(result.head(1).loc[0,'valid'])\n",
    "\n",
    "        xubo_solutions[lamda] = (result.head(10))\n",
    "\n",
    "    result_dfs[N] = pd.DataFrame(df_dict)\n",
    "\n",
    "\n",
    "\n",
    "    xubo_solutions = dict(sorted(xubo_solutions.items()))\n",
    "    #print(result_df)\n"
   ]
  },
  {
   "cell_type": "code",
   "execution_count": 12,
   "metadata": {},
   "outputs": [
    {
     "name": "stdout",
     "output_type": "stream",
     "text": [
      "     N  lamda    min_energy  min_energy_is_solution\n",
      "2   91      1 -5.200000e+00                   False\n",
      "0   91      2  0.000000e+00                    True\n",
      "6   91      3  1.421085e-14                    True\n",
      "5   91      4  0.000000e+00                    True\n",
      "8   91      5  0.000000e+00                    True\n",
      "11  91      6  0.000000e+00                    True\n",
      "1   91      7  1.421085e-14                    True\n",
      "3   91      8 -1.421085e-14                    True\n",
      "4   91      9  0.000000e+00                    True\n",
      "9   91     32  0.000000e+00                    True\n",
      "10  91     33  0.000000e+00                    True\n",
      "7   91     34  1.421085e-14                    True\n",
      "      N  lamda    min_energy  min_energy_is_solution\n",
      "9   143      1 -2.500000e+01                   False\n",
      "6   143      2 -1.060000e+01                   False\n",
      "0   143      3 -4.400000e+00                   False\n",
      "7   143      4 -2.842171e-14                    True\n",
      "1   143      5  0.000000e+00                    True\n",
      "11  143      6  2.842171e-14                    True\n",
      "8   143      7  2.842171e-14                    True\n",
      "5   143      8  0.000000e+00                    True\n",
      "2   143      9 -5.684342e-14                    True\n",
      "4   143     32 -3.160000e+00                   False\n",
      "10  143     33 -2.540000e+00                   False\n",
      "3   143     34 -1.920000e+00                   False\n",
      "      N  lamda    min_energy  min_energy_is_solution\n",
      "6   437      1 -1.488000e+02                   False\n",
      "8   437      2 -5.320000e+01                   False\n",
      "1   437      3 -1.540000e+01                   False\n",
      "0   437      4 -2.273737e-13                    True\n",
      "10  437      5  0.000000e+00                    True\n",
      "2   437      6  1.136868e-13                    True\n",
      "7   437      7 -4.547474e-13                    True\n",
      "9   437      8  2.273737e-13                    True\n",
      "4   437      9  4.547474e-13                    True\n",
      "11  437     32 -1.056000e+01                   False\n",
      "3   437     33 -8.140000e+00                   False\n",
      "5   437     34 -5.720000e+00                   False\n",
      "      N  lamda    min_energy  min_energy_is_solution\n",
      "8   493      1 -1.078000e+02                   False\n",
      "7   493      2 -3.720000e+01                   False\n",
      "6   493      3 -1.400000e+00                   False\n",
      "3   493      4 -3.410605e-13                    True\n",
      "10  493      5  0.000000e+00                    True\n",
      "11  493      6  0.000000e+00                    True\n",
      "5   493      7 -2.273737e-13                    True\n",
      "1   493      8 -2.273737e-13                    True\n",
      "0   493      9  4.547474e-13                    True\n",
      "2   493     32 -2.273737e-13                    True\n",
      "4   493     33 -3.410605e-13                    True\n",
      "9   493     34 -1.136868e-13                    True\n"
     ]
    }
   ],
   "source": [
    "for N, df in result_dfs.items():\n",
    "    result_dfs[N] =df.sort_values(by='lamda') \n",
    "    print(df.sort_values(by='lamda'))"
   ]
  },
  {
   "cell_type": "code",
   "execution_count": 22,
   "metadata": {},
   "outputs": [
    {
     "name": "stdout",
     "output_type": "stream",
     "text": [
      "\\begin{tabular}{lrrrr}\n",
      "\\toprule\n",
      " & N & lamda & min_energy & min_energy_is_solution \\\\\n",
      "\\midrule\n",
      "7 & 493 & 1 & -199.000000 & False \\\\\n",
      "2 & 493 & 2 & -147.000000 & False \\\\\n",
      "21 & 493 & 3 & -103.000000 & False \\\\\n",
      "15 & 493 & 4 & -67.000000 & False \\\\\n",
      "20 & 493 & 5 & -51.000000 & False \\\\\n",
      "13 & 493 & 6 & -35.000000 & False \\\\\n",
      "27 & 493 & 7 & -19.000000 & False \\\\\n",
      "16 & 493 & 8 & -10.000000 & False \\\\\n",
      "25 & 493 & 9 & -2.000000 & False \\\\\n",
      "6 & 493 & 10 & 0.000000 & True \\\\\n",
      "\\bottomrule\n",
      "\\end{tabular}\n",
      "\n"
     ]
    }
   ],
   "source": [
    "print(result_dfs[493].head(10).to_latex())"
   ]
  },
  {
   "cell_type": "code",
   "execution_count": 42,
   "metadata": {},
   "outputs": [
    {
     "name": "stdout",
     "output_type": "stream",
     "text": [
      "  c0 c1 c2 c3  energy p0 p1 p2 q0 q1  ... t2 t3 t4 t5 t6 t7 t8   a   b valid\n",
      "0  0  0  0  0     0.0  0  1  1  0  0  ...  0  0  0  0  0  0  0  29  17  True\n",
      "\n",
      "[1 rows x 23 columns]\n"
     ]
    }
   ],
   "source": [
    "print(xubo_solutions[11].head(1))"
   ]
  },
  {
   "cell_type": "code",
   "execution_count": 35,
   "metadata": {},
   "outputs": [
    {
     "name": "stderr",
     "output_type": "stream",
     "text": [
      "No artists with labels found to put in legend.  Note that artists whose label start with an underscore are ignored when legend() is called with no argument.\n"
     ]
    },
    {
     "data": {
      "image/png": "[encoded data removed]",
      "text/plain": [
       "<Figure size 640x480 with 3 Axes>"
      ]
     },
     "metadata": {},
     "output_type": "display_data"
    }
   ],
   "source": [
    "fig, (r_ax, v_ax, r_low_ax) = plt.subplots(3,1)\n",
    "fig.suptitle(\"Energy Histogram\")\n",
    "for k,(result, valids, success_rate) in results.items():\n",
    "    if not valids.empty:\n",
    "        print(f'Number of valid entries should equal 2**(n_qubits - (len_a + len_b)) [* 2 if len_a == len_b]: {len(valids)}')\n",
    "    \n",
    "        energy_count_valids = valids[['energy']].value_counts(sort=False)\n",
    "        energy_count_result = result[['energy']].value_counts(sort=False)\n",
    "        # idk why but index is multiseries ???????\n",
    "        # so we have to transform to normal\n",
    "        v_keys = [key[0] for key in energy_count_valids.index]\n",
    "        v_ax.plot(v_keys, energy_count_valids.values, label=k)\n",
    "        v_ax.set_title(\"Only valids\")\n",
    "\n",
    "        # same here\n",
    "        r_keys = [key[0] for key in energy_count_result.index]\n",
    "        r_ax.plot(r_keys, energy_count_result.values)\n",
    "        r_ax.set_title(\"All entries\")\n",
    "\n",
    "        # same here\n",
    "        r_keys = [key[0] for key in energy_count_result.index]\n",
    "        r_low_ax.plot(r_keys[:10], energy_count_result.values[:10], marker='o')\n",
    "        r_low_ax.set_title(\"Low energy states\")\n",
    "        r_low_ax.set_yscale('log')\n",
    "fig.legend()\n",
    "fig.tight_layout()\n"
   ]
  },
  {
   "attachments": {},
   "cell_type": "markdown",
   "metadata": {},
   "source": [
    "Makes sense if you consider that there are 4 times more possible solutions for 5x7\n",
    "\n",
    "Question:\n",
    "- success rate / number of possible solutions if we generate bigger multiplication circuit"
   ]
  },
  {
   "cell_type": "code",
   "execution_count": null,
   "metadata": {},
   "outputs": [],
   "source": [
    "i"
   ]
  }
 ],
 "metadata": {
  "kernelspec": {
   "display_name": ".venv",
   "language": "python",
   "name": "python3"
  },
  "language_info": {
   "codemirror_mode": {
    "name": "ipython",
    "version": 3
   },
   "file_extension": ".py",
   "mimetype": "text/x-python",
   "name": "python",
   "nbconvert_exporter": "python",
   "pygments_lexer": "ipython3",
   "version": "3.10.12"
  },
  "orig_nbformat": 4
 },
 "nbformat": 4,
 "nbformat_minor": 2
}
